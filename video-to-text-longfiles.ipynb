{
 "cells": [
  {
   "cell_type": "code",
   "execution_count": null,
   "id": "widespread-ethnic",
   "metadata": {
    "scrolled": true
   },
   "outputs": [],
   "source": [
    "import ffmpeg  # Library to work with audio and video files, here used to extract audio\n",
    "import subprocess  # To make subprocess call using terminal\n",
    "import os\n",
    "from ibm_watson import SpeechToTextV1\n",
    "from ibm_watson.websocket import RecognizeCallback, AudioSource\n",
    "from ibm_cloud_sdk_core.authenticators import IAMAuthenticator"
   ]
  },
  {
   "cell_type": "code",
   "execution_count": null,
   "id": "piano-festival",
   "metadata": {},
   "outputs": [],
   "source": [
    "# Extracts audio from video\n",
    "# ffmpeg -i input_filename -ab bitrate -ar frequency -vn output_filename\n",
    "\n",
    "# TODO: Change input_filename.mp4 to file to be converted\n",
    "# If your output is '127' that means command not found and likely ffmpeg has not been correctly installed.\n",
    "command = 'ffmpeg -i input_filename.mp4 -ab 160k -ar 44100 -vn output_filename.wav'\n",
    "subprocess.call(command, shell=True)"
   ]
  },
  {
   "cell_type": "code",
   "execution_count": null,
   "id": "solved-bacteria",
   "metadata": {},
   "outputs": [],
   "source": [
    "# TODO: Insert the api_key and url as strings as listed on your IBM Cloud account (Watson Speech to Text service)\n",
    "api_key = ''\n",
    "url = ''"
   ]
  },
  {
   "cell_type": "code",
   "execution_count": null,
   "id": "defined-numbers",
   "metadata": {},
   "outputs": [],
   "source": [
    "# Setups service\n",
    "authenticator = IAMAuthenticator(api_key)\n",
    "stt = SpeechToTextV1(authenticator=authenticator)\n",
    "stt.set_service_url(url)"
   ]
  },
  {
   "cell_type": "code",
   "execution_count": null,
   "id": "representative-grove",
   "metadata": {},
   "outputs": [],
   "source": [
    "# Compresses audio\n",
    "command = 'ffmpeg -i output_filename.wav -vn -ar 44100 -ac 2 -b:a 192k output_filename.mp3'\n",
    "subprocess.call(command, shell=True)"
   ]
  },
  {
   "cell_type": "code",
   "execution_count": null,
   "id": "sound-sympathy",
   "metadata": {},
   "outputs": [],
   "source": [
    "# Splits audio into smaller and more manageable files\n",
    "command = 'ffmpeg -i output_filename.mp3 -f segment -segment_time 1800 -c copy audio_file_%03d.mp3'\n",
    "subprocess.call(command, shell=True)"
   ]
  },
  {
   "cell_type": "code",
   "execution_count": null,
   "id": "numerical-history",
   "metadata": {},
   "outputs": [],
   "source": [
    "files = []\n",
    "for filename in os.listdir('.'):\n",
    "    if filename.startswith('audio_file_') and filename.endswith('.mp3'):\n",
    "        files.append(filename)\n",
    "files.sort()\n",
    "files"
   ]
  },
  {
   "cell_type": "code",
   "execution_count": null,
   "id": "tight-eating",
   "metadata": {},
   "outputs": [],
   "source": [
    "# Model list: https://cloud.ibm.com/apidocs/speech-to-text#listmodels\n",
    "# Japanese models: ja-JP_BroadbandModel, ja-JP_NarrowbandModel\n",
    "# JP_Broadband seems to capture the speech more accurately\n",
    "results = []\n",
    "for filename in files:\n",
    "    with open(filename, 'rb') as f:\n",
    "        res = stt.recognize(audio=f, content_type= 'audio/mp3', model='ja-JP_BroadbandModel', continuous=True,  \n",
    "                           inactivity_timeout=1200).get_result()\n",
    "        results.append(res)"
   ]
  },
  {
   "cell_type": "code",
   "execution_count": null,
   "id": "deluxe-superintendent",
   "metadata": {},
   "outputs": [],
   "source": [
    "results[0]  # Shows speech to text results for the first audio file"
   ]
  },
  {
   "cell_type": "code",
   "execution_count": null,
   "id": "running-interim",
   "metadata": {},
   "outputs": [],
   "source": [
    "text = []\n",
    "for file in results:\n",
    "    for result in file['results']:\n",
    "        text.append(result['alternatives'][0]['transcript'].rstrip() + '.\\n')"
   ]
  },
  {
   "cell_type": "code",
   "execution_count": null,
   "id": "modern-petite",
   "metadata": {},
   "outputs": [],
   "source": [
    "transcript_list = ''.join(text).split()\n",
    "\n",
    "for n, i in enumerate(transcript_list):\n",
    "    if i.endswith(u'.'):\n",
    "        transcript_list[n] = i[:-1]\n",
    "\n",
    "for n, i in enumerate(transcript_list):\n",
    "    # Light text cleaning below\n",
    "    if i == u'ですね':\n",
    "        transcript_list[n] = u'ですね。'\n",
    "    if i == u'はい':\n",
    "        transcript_list[n] = u'はい、'\n",
    "    if i.endswith(u'ます'):\n",
    "        transcript_list[n] = i.replace(u'ます', u'ます。')\n",
    "    if i.endswith(u'ましょう'):\n",
    "        transcript_list[n] = i.replace(u'ましょう', u'ましょう。')\n",
    "    if i == u'ね' and transcript_list[n-1] == u'です':\n",
    "        transcript_list[n] = u'ね。'\n",
    "    if i == u'ねえ':\n",
    "        transcript_list[n] = u'ね。'\n",
    "    if i.startswith('D_'):  # Dropoffs in speech. Often in places like ええと and まあー\n",
    "        transcript_list[n] = ''"
   ]
  },
  {
   "cell_type": "code",
   "execution_count": null,
   "id": "quality-georgia",
   "metadata": {
    "scrolled": true
   },
   "outputs": [],
   "source": [
    "transcript = ''.join(transcript_list)\n",
    "transcript = transcript.replace(u'ます。ので', 'ますので、')\n",
    "transcript"
   ]
  },
  {
   "cell_type": "code",
   "execution_count": null,
   "id": "thermal-fault",
   "metadata": {},
   "outputs": [],
   "source": [
    "# Saves transcript variable as 'トランスクリプト_long.txt'\n",
    "with open('トランスクリプト_long.txt', 'w') as out:\n",
    "    out.writelines(transcript)"
   ]
  },
  {
   "cell_type": "code",
   "execution_count": null,
   "id": "mental-involvement",
   "metadata": {},
   "outputs": [],
   "source": []
  }
 ],
 "metadata": {
  "kernelspec": {
   "display_name": "Python 3",
   "language": "python",
   "name": "python3"
  },
  "language_info": {
   "codemirror_mode": {
    "name": "ipython",
    "version": 3
   },
   "file_extension": ".py",
   "mimetype": "text/x-python",
   "name": "python",
   "nbconvert_exporter": "python",
   "pygments_lexer": "ipython3",
   "version": "3.7.6"
  }
 },
 "nbformat": 4,
 "nbformat_minor": 5
}
